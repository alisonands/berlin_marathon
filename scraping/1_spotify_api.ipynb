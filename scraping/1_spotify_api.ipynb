{
 "cells": [
  {
   "cell_type": "code",
   "execution_count": 1,
   "metadata": {
    "tags": []
   },
   "outputs": [],
   "source": [
    "import requests\n",
    "from dotenv import load_dotenv\n",
    "import os\n",
    "from pprint import pprint\n",
    "import api_keys\n",
    "import base64\n",
    "from requests import post\n",
    "import json\n"
   ]
  },
  {
   "cell_type": "code",
   "execution_count": 5,
   "metadata": {
    "tags": []
   },
   "outputs": [
    {
     "name": "stdout",
     "output_type": "stream",
     "text": [
      "{'error': 'invalid_client'}\n"
     ]
    }
   ],
   "source": [
    "def get_token():\n",
    "    auth_string = api_keys.spotify_client_id + ':' + api_keys.spotify_client_secret\n",
    "    auth_bytes = auth_string.encode('utf-8')\n",
    "    auth_base64 = str(base64.b64encode(auth_bytes), 'utf-8')\n",
    "\n",
    "    url = 'https://accounts.spotify.com/api/token'\n",
    "    headers = {\n",
    "        \"Authorization\" : \"Basic\" + auth_base64,\n",
    "        \"Content-Type\" : \"application/x-www-form-urlencoded\"\n",
    "    }\n",
    "    data = {\"grant_type\" : \"authorization_code\"}\n",
    "    result = post(url, headers = headers, data = data)\n",
    "    json_result = json.loads(result.content)\n",
    "    token = json_result\n",
    "    return token\n",
    "\n",
    "token = get_token()\n",
    "print(token)"
   ]
  },
  {
   "cell_type": "code",
   "execution_count": null,
   "metadata": {},
   "outputs": [],
   "source": []
  }
 ],
 "metadata": {
  "kernelspec": {
   "display_name": "Python 3 (ipykernel)",
   "language": "python",
   "name": "python3"
  },
  "language_info": {
   "codemirror_mode": {
    "name": "ipython",
    "version": 3
   },
   "file_extension": ".py",
   "mimetype": "text/x-python",
   "name": "python",
   "nbconvert_exporter": "python",
   "pygments_lexer": "ipython3",
   "version": "3.11.5"
  }
 },
 "nbformat": 4,
 "nbformat_minor": 4
}
