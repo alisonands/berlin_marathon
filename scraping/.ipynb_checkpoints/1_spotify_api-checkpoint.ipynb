{
 "cells": [
  {
   "cell_type": "code",
   "execution_count": 2,
   "metadata": {},
   "outputs": [],
   "source": [
    "import requests\n",
    "from pprint import pprint"
   ]
  },
  {
   "cell_type": "code",
   "execution_count": 3,
   "metadata": {},
   "outputs": [
    {
     "ename": "IndexError",
     "evalue": "list index out of range",
     "output_type": "error",
     "traceback": [
      "\u001b[0;31m---------------------------------------------------------------------------\u001b[0m",
      "\u001b[0;31mIndexError\u001b[0m                                Traceback (most recent call last)",
      "\u001b[1;32m/Users/alisonandrade/Documents/alison18/py-conda/learning_/scraping/1_spotify_api.ipynb Cell 2\u001b[0m line \u001b[0;36m1\n\u001b[1;32m     <a href='vscode-notebook-cell:/Users/alisonandrade/Documents/alison18/py-conda/learning_/scraping/1_spotify_api.ipynb#W1sZmlsZQ%3D%3D?line=15'>16</a>\u001b[0m authorization_response \u001b[39m=\u001b[39m \u001b[39minput\u001b[39m(\u001b[39mf\u001b[39m\u001b[39m'\u001b[39m\u001b[39mPlease visit this URL to authorize your application: \u001b[39m\u001b[39m{\u001b[39;00mauth_url\u001b[39m}\u001b[39;00m\u001b[39m?\u001b[39m\u001b[39m{\u001b[39;00mauth_params\u001b[39m}\u001b[39;00m\u001b[39m\\n\u001b[39;00m\u001b[39mEnter the redirect URL here: \u001b[39m\u001b[39m'\u001b[39m)\n\u001b[1;32m     <a href='vscode-notebook-cell:/Users/alisonandrade/Documents/alison18/py-conda/learning_/scraping/1_spotify_api.ipynb#W1sZmlsZQ%3D%3D?line=17'>18</a>\u001b[0m \u001b[39m# Extract the authorization code from the response URL\u001b[39;00m\n\u001b[0;32m---> <a href='vscode-notebook-cell:/Users/alisonandrade/Documents/alison18/py-conda/learning_/scraping/1_spotify_api.ipynb#W1sZmlsZQ%3D%3D?line=18'>19</a>\u001b[0m authorization_code \u001b[39m=\u001b[39m authorization_response\u001b[39m.\u001b[39msplit(\u001b[39m'\u001b[39m\u001b[39mcode=\u001b[39m\u001b[39m'\u001b[39m)[\u001b[39m1\u001b[39m]\n\u001b[1;32m     <a href='vscode-notebook-cell:/Users/alisonandrade/Documents/alison18/py-conda/learning_/scraping/1_spotify_api.ipynb#W1sZmlsZQ%3D%3D?line=20'>21</a>\u001b[0m \u001b[39m# Obtain access token\u001b[39;00m\n\u001b[1;32m     <a href='vscode-notebook-cell:/Users/alisonandrade/Documents/alison18/py-conda/learning_/scraping/1_spotify_api.ipynb#W1sZmlsZQ%3D%3D?line=21'>22</a>\u001b[0m token_url \u001b[39m=\u001b[39m \u001b[39m'\u001b[39m\u001b[39mhttps://accounts.spotify.com/api/token\u001b[39m\u001b[39m'\u001b[39m\n",
      "\u001b[0;31mIndexError\u001b[0m: list index out of range"
     ]
    }
   ],
   "source": [
    "# Set your credentials\n",
    "client_id = '06fe9d22ce824bada1b92c8e4a737841'\n",
    "client_secret = 'd843821b988742bab33e25411bdc15d3'\n",
    "redirect_uri = 'https://www.spotify.com'\n",
    "\n",
    "# Set up the authorization URL\n",
    "auth_url = 'https://accounts.spotify.com/authorize'\n",
    "auth_params = {\n",
    "    'client_id': client_id,\n",
    "    'response_type': 'code',\n",
    "    'redirect_uri': redirect_uri,\n",
    "    'scope': 'user-library-read',  # Specify the required scope\n",
    "}\n",
    "\n",
    "# Get authorization code manually (you would typically redirect the user to auth_url)\n",
    "authorization_response = input(f'Please visit this URL to authorize your application: {auth_url}?{auth_params}\\nEnter the redirect URL here: ')\n",
    "\n",
    "# Extract the authorization code from the response URL\n",
    "authorization_code = authorization_response.split('code=')[1]\n",
    "\n",
    "# Obtain access token\n",
    "token_url = 'https://accounts.spotify.com/api/token'\n",
    "token_params = {\n",
    "    'grant_type': 'authorization_code',\n",
    "    'code': authorization_code,\n",
    "    'redirect_uri': redirect_uri,\n",
    "    'client_id': client_id,\n",
    "    'client_secret': client_secret,\n",
    "}\n",
    "\n",
    "token_response = requests.post(token_url, data=token_params)\n",
    "token_data = token_response.json()\n",
    "\n",
    "# Extract access token\n",
    "access_token = token_data['access_token']\n",
    "\n",
    "# Use the access token to make API requests\n",
    "api_url = 'https://api.spotify.com/v1/me/tracks'\n",
    "headers = {'Authorization': f'Bearer {access_token}'}\n",
    "\n",
    "response = requests.get(api_url, headers=headers)\n",
    "data = response.json()\n",
    "\n",
    "# Process the API response\n",
    "print(data)\n"
   ]
  }
 ],
 "metadata": {
  "kernelspec": {
   "display_name": "base",
   "language": "python",
   "name": "python3"
  },
  "language_info": {
   "codemirror_mode": {
    "name": "ipython",
    "version": 3
   },
   "file_extension": ".py",
   "mimetype": "text/x-python",
   "name": "python",
   "nbconvert_exporter": "python",
   "pygments_lexer": "ipython3",
   "version": "3.11.5"
  }
 },
 "nbformat": 4,
 "nbformat_minor": 2
}
