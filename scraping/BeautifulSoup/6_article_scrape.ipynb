{
 "cells": [
  {
   "cell_type": "code",
   "execution_count": 1,
   "metadata": {},
   "outputs": [],
   "source": [
    "from bs4 import BeautifulSoup\n",
    "import requests"
   ]
  },
  {
   "cell_type": "code",
   "execution_count": 46,
   "metadata": {},
   "outputs": [
    {
     "name": "stdout",
     "output_type": "stream",
     "text": [
      "The document, recently obtained by The Epoch Times, is a directive by the China National Petroleum Corporation (CNPC). It was issued in August to its overseas offices in more than 10 countries, including Canada. As previously reported by Epoch, the directive asks the offices to “urgently destroy or transfer sensitive documents” relating to “overseas [Chinese Communist] Party-building activities.”\n",
      "Chinese companies, both state-owned and private, have in recent years bought significant stakes in Canada’s energy sector. Some older Chinese state-owned companies such as CITIC have deep roots in Canada and have been the subject of security warnings by the Canadian Security Intelligence Service (CSIS) and the RCMP.\n",
      "CSIS Security Concerns\n",
      "The CNPC directive to its overseas offices was in reaction to recent actions taken by the United States and other western governments, the leaked document said. It cited an incident in Australia where authorities searched and seized mobile phones and computers of Chinese diplomatic personnel. The document didn’t provide further details about the incident.\n",
      "The United States, in particular, has in recent times increased efforts to combat Chinese espionage activities. Washington ordered the closure of the Chinese Consulate in Houston in July 2020, saying it was a “hub of spying and intellectual property theft.” The FBI also said recently that it has more than 2,000 active investigations relating to the CCP, adding that the bureau opens a new counterintelligence investigation tied to Beijing “every 10 hours.”\n",
      "CSIS’s annual public report released in April this year warns about security risks related to companies with close ties to foreign governments and intelligence services.\n",
      "Besides acquisitions, CNPC has also held partnerships with a number of Canadian companies active in the energy sector over the years, including Encana Corporation, as well as Nova Corporation, the predecessor of Nova Chemicals, with which CNPC had a “technology transfer program.”\n",
      "In 2016, Dutch security firm Fox-IT uncovered a group of hackers working for the Chinese regime. Among the targets of the hacking group was a special economic zone in Myanmar, also known as Burma. The site had been of particular interest to CNPC, which began an investment there in 2009.\n",
      "The incident was reminiscent of another China-directed cyberattack in 2011, when interests of one of its SOEs was at stake, this time involving a Canadian company. China-linked hackers were found to have targeted several Toronto-based law firms to find information related to Australian mining giant BHP’s bid to take over Saskatchewan’s PotashCorp, according to a report by The Globe and Mail. At the time, Chinese SOE Sinochem Group was reportedly considering its own bid to buy PotashCorp.\n",
      "A former senior security adviser for the once-thriving Canadian technology giant Nortel believes the high-tech firm fell victim to Chinese hacking and cyber espionage. Brian Shields says Chinese hackers stole company secrets for years, and he doesn’t think it’s a coincidence that around the same time that Nortel started going bankrupt in the late 2000s, closing shop in 2009, Chinese telecom giant Huawei started to gain more market share in the West. Huawei denies it benefited from any industrial espionage from Nortel.\n",
      "In 2014, Chinese state-sponsored hackers attacked the computer networks of Canada’s National Research Council. Citing government documents, the Globe reported that the incident cost Canada hundreds of millions of dollars.\n",
      "CNPC didn’t respond to a request for comment for this story.\n",
      "China’s Interests in Canada\n",
      "In recent years, CNPC along with China’s other two major oil and gas state-owned enterprises, CNOOC and Sinopec, have made significant purchases in Canada’s energy sector.\n",
      "Chinese investments in Alberta’s oil sands dwarf Chinese investments in other sectors or provinces.\n",
      "According to a Jamestown Foundation report, among the incentives for China acquiring Canadian energy firms is access to advanced technology such as oilsands extraction and hydraulic fracturing. CNOOC’s then-chairman Fu Chengyu said as much back in 2005 when the company bought a 17 percent stake in oilsands firm MEG Energy, noting how such purchases allow CNOOC to “exploit the advanced technology and expertise of oilsands development,” which can in turn be used back in China, the report notes.\n",
      "In recent years, Chinese investments have been more focused in the metal and minerals sector. In another controversial takeover bid this year, a Chinese SOE proposed the acquisition of TMAC Resources’ Hope Bay gold mine in Nunavut. The move raised concerns in the security and intelligence community due to the strategic location of the site and China’s interest in the Arctic. The proposed acquisition is pending a national security review by Ottawa.\n",
      "Advancing Beijing’s ‘Strategic Influence’\n",
      "Charles Burton, a senior fellow at the Macdonald-Laurier Institute, said Chinese SOEs invest in key sectors in Canada to advance the strategic influence of the Beijing regime. These SOEs work with the Chinese military to gather strategically important information, he noted.\n",
      "“These enterprises are closely connected to the ministries of the Chinese state that they respond to, and they are required to be governed by their CCP branch,” Burton told the parliamentary committee for industry, science, and technology in June.\n",
      "FBI Director Christopher Wray told the Council on Foreign Relations last year that Beijing is pioneering a “societal approach to stealing innovation,” listing SOEs and even Chinese private companies as among the main vehicles for this strategy.\n",
      "Concerns about links between Chinese SOEs and the Chinese military are serious enough that a 2019 annual report by the congressional U.S.-China Economic and Security Review Commission listed the assessment of Beijing’s SOE expansions overseas as a main part of a recommended undertaking to identify where Beijing may be taking initiatives to set up a military presence.\n",
      "During the last Parliament, Conservative Sen. Thanh Hai Ngo introduced a bill to require a mandatory review of investments by foreign SOEs.\n",
      "“In all of their operations, [Chinese SOEs] seek to advance the objectives of the state and the military,” he said in an interview.\n",
      "The ‘Private’ Sector\n",
      "Besides investments by Chinese SOEs, there has also been significant uptick in investment from the Chinese private sector, which in recent years has even outpaced Chinese SOE investments in Canada. A South China Morning Post report notes that between 2013 and 2017, private mainland investors took over at least a dozen Canadian energy companies.\n",
      "“As China’s state and Party heavily overlap, the latter’s increased influence within the private sector makes it more likely that nominally private firms will act with motives aside from profit maximizing,” says a paper by researcher Kai Valdez Bettcher for the University of Calgary.\n",
      "According to the paper, China’s investment in Canada from 1993 to 2017 has reached a total of $86 billion, while other sources put the figure closer to $63.5 billion. Depending on the lower or higher value assumed, Canada would be either the third- or seventh-largest recipient of China’s foreign direct investment, or cross-border investment, the paper says.\n",
      "Sensitive Sectors\n",
      "Concerned about the risk of failing businesses becoming vulnerable to Chinese takeover during the pandemic and in the post-pandemic economy, Australia in March temporarily tightened its rules governing foreign takeovers of strategic assets, subjecting such proposals to greater scrutiny by the government.\n",
      "A number of expert witnesses urged Canadian MPs earlier this year to halt Chinese investments in sensitive sectors. Among them was former Blackberry executive Jim Balsillie, who recommended a moratorium on SOE acquisitions of “authoritarian countries” in certain sectors.\n",
      "In previous years, the Liberal government had allowed the takeover of sensitive high-tech Canadian companies by Chinese firms, despite security warnings from U.S. politicians and the Opposition. In one case in 2017, Canada allowed a Chinese company to buy Norsat, a Vancouver-based satellite communication firm. The same year, Ottawa allowed a Hong Kong-based company to buy Montreal-based laser technology company ITF Technologies. The Liberal government however did reject the takeover of major Canadian construction giant Aecon bid by CCCI, a Chinese SOE, in 2018.\n",
      "This year, the Liberals came under heavy criticism by the Opposition for initially choosing to use Chinese SOE Nuctech to install security equipment in Canadian embassies and consulates. The deal was eventually scrapped after reports about the contract were made public, and amid security concerns raised by the Opposition and in the media.\n",
      "Joint RCMP and CSIS Report\n",
      "A leaked 1997 joint report by the RCMP and CSIS, dubbed Sidewinder, warned that the Beijing regime is trying to gain influence in Canadian politics “by maximizing their presence over some of the country’s economic levers.”\n",
      "China’s CITIC in Canada\n",
      "CITIC, a state-owned Chinese investment company, has been on the forefront of Canada-China relations. It also came to attention over illegal contributions to the U.S. Democratic Party and concerns about China’s interference operations during the Clinton administration in the late 1990s.\n",
      "Power Corp. also has a 13.9 percent ownership in China Asset Management, an affiliate of CITIC. Another subsidiary of Power Corp., Mackenzie Financial Corporation, has a 13.9 percent stake in China Asset Management as well.\n",
      "The Chinese Investment Corporation (CIC), which invests China’s foreign exchange reserves, holds a significant share in the Canadian mining company Teck Resources. Besides being government-owned, CIC has other links with CITIC. It is headquartered in CITIC Tower in Hong Kong, where CITIC Pacific also has its headquarters. And it has bought a 40 percent stake in CITIC subsidiary CITIC Capital, which specializes in private equity and real estate funds.\n",
      "Wang Jun, who was at one time the chairman of CITIC, was also at the same time in charge of Poly Group, a Chinese SOE formed as a manufacturing arm of the People’s Liberation Army. Wang was at the centre of a donation scandal in the 1990s when Arkansas restaurateur and Democratic Party donor Yah Lin \"Charlie\" Trie used his influence to secure a meeting between then-president Bill Clinton and Wang in 1996. At the time of the meeting, Wang’s Poly company was under investigation for illegal arms trading in the United States. Representatives of the company were charged with arms smuggling into the United States a few months after the meeting.\n",
      "Clinton later said he shouldn't have met with Wang, and the US$640,000 amount donated by Trie to the Democratic National Convention, as well as $460,000 raised for Clinton’s legal defence, were returned amid questions about the source of the funds and allegations of China’s role in the affair.\n",
      "According to Poly Group’s website, the company was founded by the PLA General Staff Department and CITIC. The name of the joint venture, Poly, was given by CITIC’s president at the time, Xu Zhaolong, which in Chinese means “defending victory,” the company says.\n",
      "A Chicago Tribune report in 1997 noted that former prime minister Brian Mulroney was an advisory council member for CITIC and was also on the advisory board of Bombardier when the Canadian company signed a contract with Wang’s Poly Technologies to sell corporate jets to China. At the time of the report, Poly Technologies was indicted for smuggling AK-47 assault rifles into the United States.\n",
      "A number of other prominent former western politicians have held advisory roles with CITIC as well. A 1998 U.S. Senate report notes that former U.S. secretary of state Henry Kissinger, famous for pushing for closer ties between the United States and the CCP, has maintained business ties with CITIC.\n",
      "CITIC and China’s Military and Intelligence Apparatus\n",
      "A 2019 report by the U.S. congressional U.S.-China Economic and Security Commission cites a Wall Street Journal article reporting that CITIC co-owned AsiaSat, which rents satellite bandwidth to Chinese state-owned telecom companies, which in turn give their available bandwidth to Chinese military and intelligence agencies.\n",
      "Last year, the Canada Pension Plan Investment Board, which invests heavily in China, signed Yin Ke, a former executive with various CITIC subsidiaries, as its senior adviser on China. The pension board also has substantial investments in CITIC and its subsidiaries.\n",
      "With reporting by Cathy He, Frank Fang, Eva Fu, and Hongyan Lu\n"
     ]
    }
   ],
   "source": [
    "url = 'https://www.theepochtimes.com/world/leaked-document-from-chinese-company-corroborates-csis-security-concerns-3601923?utm_source=google&utm_medium=googlepermaxpoll&utm_campaign=permaxpoll_stop_China_buying&gclid=CjwKCAiAjrarBhAWEiwA2qWdCDE8_OSa5K-Noj_zHYSw3mEVH5wuo4nUhfzt450FkJPecGG8VQvmMRoCZ8IQAvD_BwE'\n",
    "response = requests.get(url)\n",
    "soup = BeautifulSoup(response.content, 'html.parser')\n",
    "body = soup.find_all('div', class_ = 'my-5')\n",
    "for bod in body:\n",
    "    print (bod.text)"
   ]
  }
 ],
 "metadata": {
  "kernelspec": {
   "display_name": "base",
   "language": "python",
   "name": "python3"
  },
  "language_info": {
   "codemirror_mode": {
    "name": "ipython",
    "version": 3
   },
   "file_extension": ".py",
   "mimetype": "text/x-python",
   "name": "python",
   "nbconvert_exporter": "python",
   "pygments_lexer": "ipython3",
   "version": "3.11.5"
  }
 },
 "nbformat": 4,
 "nbformat_minor": 2
}
