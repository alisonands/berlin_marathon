{
 "cells": [
  {
   "cell_type": "code",
   "execution_count": 5,
   "metadata": {},
   "outputs": [],
   "source": [
    "from bs4 import BeautifulSoup\n",
    "import requests"
   ]
  },
  {
   "cell_type": "code",
   "execution_count": 1,
   "metadata": {},
   "outputs": [
    {
     "name": "stdout",
     "output_type": "stream",
     "text": [
      "Title: Astronomy\n"
     ]
    }
   ],
   "source": [
    "import requests\n",
    "from bs4 import BeautifulSoup\n",
    "\n",
    "def scrape_wikipedia(url, output_file):\n",
    "    # Send a GET request to the Wikipedia page\n",
    "    response = requests.get(url)\n",
    "\n",
    "    # Check if the request was successful (status code 200)\n",
    "    if response.status_code == 200:\n",
    "        # Parse the HTML content of the page\n",
    "        soup = BeautifulSoup(response.content, 'html.parser')\n",
    "\n",
    "        # Find and print the title of the Wikipedia page\n",
    "        title = soup.find('h1', {'id': 'firstHeading'})\n",
    "        print(f\"Title: {title.text.strip()}\")\n",
    "\n",
    "        # Find and print the main content of the page\n",
    "        content = soup.find('div', {'id': 'mw-content-text'})\n",
    "        paragraphs = content.find_all('p')\n",
    "        text_content = '\\n'.join(paragraph.text for paragraph in paragraphs)\n",
    "\n",
    "        with open(output_file, 'w', encoding='utf-8') as file:\n",
    "            file.write(f\"Title: {title}\\n\\n\")\n",
    "            file.write(text_content)\n",
    "\n",
    "    else:\n",
    "        print(f\"Failed to retrieve the page. Status code: {response.status_code}\")\n",
    "\n",
    "# Replace 'https://en.wikipedia.org/wiki/Your_Page_Title' with the URL of the Wikipedia page you want to scrape\n",
    "url = 'https://en.wikipedia.org/wiki/Astronomy'\n",
    "output_file = 'wiki_scraped_data.txt'\n",
    "scrape_wikipedia(url, output_file)\n"
   ]
  },
  {
   "cell_type": "code",
   "execution_count": null,
   "metadata": {},
   "outputs": [],
   "source": []
  }
 ],
 "metadata": {
  "kernelspec": {
   "display_name": "base",
   "language": "python",
   "name": "python3"
  },
  "language_info": {
   "codemirror_mode": {
    "name": "ipython",
    "version": 3
   },
   "file_extension": ".py",
   "mimetype": "text/x-python",
   "name": "python",
   "nbconvert_exporter": "python",
   "pygments_lexer": "ipython3",
   "version": "3.11.5"
  }
 },
 "nbformat": 4,
 "nbformat_minor": 2
}
