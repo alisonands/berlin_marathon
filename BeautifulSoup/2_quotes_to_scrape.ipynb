{
 "cells": [
  {
   "cell_type": "code",
   "execution_count": 3,
   "metadata": {},
   "outputs": [],
   "source": [
    "#imports\n",
    "from bs4 import BeautifulSoup\n",
    "import numpy as np\n",
    "import requests"
   ]
  },
  {
   "cell_type": "code",
   "execution_count": 42,
   "metadata": {},
   "outputs": [
    {
     "name": "stdout",
     "output_type": "stream",
     "text": [
      "There are 100 quotes on this website\n"
     ]
    }
   ],
   "source": [
    "#Steps:\n",
    "base_url = 'https://quotes.toscrape.com/'\n",
    "quotes = []\n",
    "next_page = '/'\n",
    "\n",
    "#Construct the url for the current page\n",
    "while True: #indefinite look unless some sort of break is encountered\n",
    "    if next_page == None:\n",
    "        break\n",
    "    url = base_url + next_page\n",
    "\n",
    "    #Fetch the HTML content of the page\n",
    "    html_text = requests.get(url)\n",
    "\n",
    "    #Break the loop if there are no more pages\n",
    "    if html_text.status_code != 200:\n",
    "        break\n",
    "\n",
    "    #Parse the HTML content\n",
    "    soup = BeautifulSoup(html_text.text, 'lxml')\n",
    "\n",
    "    #Find all the quote containers on the page\n",
    "    quote_container = soup.find_all('div', class_='quote')\n",
    "    for quote in quote_container:\n",
    "        quote_text = quote.find('span', class_ = 'text').text\n",
    "        author = quote.find('small', class_ = 'author').text\n",
    "        quotes.append(quote_text)\n",
    "\n",
    "        tags = quote.find_all('a', class_ = 'tag')\n",
    "        tags = [tag.text for tag in tags]\n",
    "\n",
    "        #print(f\"{quote_text} \\n by {author} \\n Tags: {tags}\")\n",
    "\n",
    "    # Find the link to the next page\n",
    "    next_page_element = soup.find('li', class_='next')\n",
    "    \n",
    "    # Extract the link if it exists\n",
    "    if next_page_element and next_page_element.find('a'):\n",
    "        next_page = next_page_element.find('a')['href']\n",
    "    else:\n",
    "        next_page = None\n",
    "\n",
    "print(f'There are {len(quotes)} quotes on this website')"
   ]
  },
  {
   "cell_type": "code",
   "execution_count": 26,
   "metadata": {},
   "outputs": [
    {
     "name": "stdout",
     "output_type": "stream",
     "text": [
      "“The world as we have created it is a process of our thinking. It cannot be changed without changing our thinking.” \n",
      " by Albert Einstein \n",
      " Tags: ['change', 'deep-thoughts', 'thinking', 'world']\n",
      "“It is our choices, Harry, that show what we truly are, far more than our abilities.” \n",
      " by J.K. Rowling \n",
      " Tags: ['abilities', 'choices']\n",
      "“There are only two ways to live your life. One is as though nothing is a miracle. The other is as though everything is a miracle.” \n",
      " by Albert Einstein \n",
      " Tags: ['inspirational', 'life', 'live', 'miracle', 'miracles']\n",
      "“The person, be it gentleman or lady, who has not pleasure in a good novel, must be intolerably stupid.” \n",
      " by Jane Austen \n",
      " Tags: ['aliteracy', 'books', 'classic', 'humor']\n",
      "“Imperfection is beauty, madness is genius and it's better to be absolutely ridiculous than absolutely boring.” \n",
      " by Marilyn Monroe \n",
      " Tags: ['be-yourself', 'inspirational']\n",
      "“Try not to become a man of success. Rather become a man of value.” \n",
      " by Albert Einstein \n",
      " Tags: ['adulthood', 'success', 'value']\n",
      "“It is better to be hated for what you are than to be loved for what you are not.” \n",
      " by André Gide \n",
      " Tags: ['life', 'love']\n",
      "“I have not failed. I've just found 10,000 ways that won't work.” \n",
      " by Thomas A. Edison \n",
      " Tags: ['edison', 'failure', 'inspirational', 'paraphrased']\n",
      "“A woman is like a tea bag; you never know how strong it is until it's in hot water.” \n",
      " by Eleanor Roosevelt \n",
      " Tags: ['misattributed-eleanor-roosevelt']\n",
      "“A day without sunshine is like, you know, night.” \n",
      " by Steve Martin \n",
      " Tags: ['humor', 'obvious', 'simile']\n"
     ]
    }
   ],
   "source": [
    "html_text = requests.get('https://quotes.toscrape.com/')\n",
    "\n",
    "soup = BeautifulSoup(html_text.text, 'lxml')\n",
    "quote_container = soup.find_all('div', class_ = 'quote')\n",
    "\n",
    "for quote in quote_container:\n",
    "    quote_text = quote.find('span', class_ = 'text').text\n",
    "    author = quote.find('small', class_ = 'author').text\n",
    "    \n",
    "    tags = quote.find_all('a', class_ = 'tag')\n",
    "    tags = [tag.text for tag in tags]\n",
    "\n",
    "    print(f\"{quote_text} \\n by {author} \\n Tags: {tags}\")\n"
   ]
  },
  {
   "cell_type": "code",
   "execution_count": null,
   "metadata": {},
   "outputs": [],
   "source": []
  }
 ],
 "metadata": {
  "kernelspec": {
   "display_name": "base",
   "language": "python",
   "name": "python3"
  },
  "language_info": {
   "codemirror_mode": {
    "name": "ipython",
    "version": 3
   },
   "file_extension": ".py",
   "mimetype": "text/x-python",
   "name": "python",
   "nbconvert_exporter": "python",
   "pygments_lexer": "ipython3",
   "version": "3.11.5"
  }
 },
 "nbformat": 4,
 "nbformat_minor": 2
}
