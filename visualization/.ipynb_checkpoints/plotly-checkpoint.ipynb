{
 "cells": [
  {
   "cell_type": "code",
   "execution_count": 10,
   "id": "f2f09d46-492a-410e-8fcc-e57d4bdc2870",
   "metadata": {
    "tags": []
   },
   "outputs": [],
   "source": [
    "import plotly.express as px\n",
    "import pandas as pd\n",
    "import numpy as np\n",
    "import io\n",
    "import PIL"
   ]
  },
  {
   "cell_type": "code",
   "execution_count": 11,
   "id": "841fd9c2-2b3f-4216-840f-f6c1b374bc24",
   "metadata": {
    "tags": []
   },
   "outputs": [],
   "source": [
    "gapminder_df = px.data.gapminder()"
   ]
  },
  {
   "cell_type": "code",
   "execution_count": 12,
   "id": "550ca4e4-cad2-44a6-8914-03307043cce6",
   "metadata": {
    "tags": []
   },
   "outputs": [],
   "source": [
    "fig = px.scatter(data_frame = gapminder_df,\n",
    "          x = 'gdpPercap',\n",
    "          y = 'lifeExp',\n",
    "          size = 'pop',\n",
    "          color = 'continent',\n",
    "          title = 'Lifespan and Wealth 1952-2007',\n",
    "          labels = {'gdpPercap':'Wealth',\n",
    "                   'lifeExp':'Life Span'},\n",
    "          log_x = True,\n",
    "          range_y = [25, 95],\n",
    "          hover_name = 'country',\n",
    "          animation_frame = 'year',\n",
    "          height = 600,\n",
    "          size_max = 100)"
   ]
  },
  {
   "cell_type": "code",
   "execution_count": 13,
   "id": "51df3b43-716a-4126-aa9f-7b817083e915",
   "metadata": {},
   "outputs": [],
   "source": [
    "# generate images for each step in animation\n",
    "frames = []\n",
    "for s, fr in enumerate(fig.frames):\n",
    "    # set main traces to appropriate traces within plotly frame\n",
    "    fig.update(data=fr.data)\n",
    "    # move slider to correct place\n",
    "    fig.layout.sliders[0].update(active=s)\n",
    "    # generate image of current state\n",
    "    frames.append(PIL.Image.open(io.BytesIO(fig.to_image(format=\"png\"))))\n",
    "    \n",
    "# create animated GIF\n",
    "frames[0].save(\n",
    "        \"test.gif\",\n",
    "        save_all=True,\n",
    "        append_images=frames[1:],\n",
    "        optimize=True,\n",
    "        duration=500,\n",
    "        loop=0,\n",
    "    )"
   ]
  },
  {
   "cell_type": "code",
   "execution_count": null,
   "id": "54577d88-0c7f-491e-a6e5-852add5171e8",
   "metadata": {},
   "outputs": [],
   "source": []
  }
 ],
 "metadata": {
  "kernelspec": {
   "display_name": "Python 3 (ipykernel)",
   "language": "python",
   "name": "python3"
  },
  "language_info": {
   "codemirror_mode": {
    "name": "ipython",
    "version": 3
   },
   "file_extension": ".py",
   "mimetype": "text/x-python",
   "name": "python",
   "nbconvert_exporter": "python",
   "pygments_lexer": "ipython3",
   "version": "3.11.5"
  }
 },
 "nbformat": 4,
 "nbformat_minor": 5
}
