{
 "cells": [
  {
   "cell_type": "code",
   "execution_count": 6,
   "id": "408ec934-bb97-4f7a-acea-df1bc70af699",
   "metadata": {
    "tags": []
   },
   "outputs": [
    {
     "ename": "ValueError",
     "evalue": "cannot find widget or abbreviation for argument: 'type'",
     "output_type": "error",
     "traceback": [
      "\u001b[0;31m---------------------------------------------------------------------------\u001b[0m",
      "\u001b[0;31mValueError\u001b[0m                                Traceback (most recent call last)",
      "Cell \u001b[0;32mIn[6], line 38\u001b[0m\n\u001b[1;32m     33\u001b[0m     \u001b[38;5;28;01mreturn\u001b[39;00m plot\n\u001b[1;32m     35\u001b[0m \u001b[38;5;66;03m# Use the interactive widget in the layout\u001b[39;00m\n\u001b[1;32m     36\u001b[0m dashboard \u001b[38;5;241m=\u001b[39m pn\u001b[38;5;241m.\u001b[39mColumn(\n\u001b[1;32m     37\u001b[0m     pn\u001b[38;5;241m.\u001b[39mRow(average_time_plot, fastest_time_plot),\n\u001b[0;32m---> 38\u001b[0m     pn\u001b[38;5;241m.\u001b[39mRow(distribution_type, update_plot),\n\u001b[1;32m     39\u001b[0m )\n\u001b[1;32m     41\u001b[0m \u001b[38;5;66;03m# Show the dashboard\u001b[39;00m\n\u001b[1;32m     42\u001b[0m dashboard\u001b[38;5;241m.\u001b[39mservable()\n",
      "File \u001b[0;32m~/anaconda3/lib/python3.11/site-packages/panel/layout/base.py:782\u001b[0m, in \u001b[0;36mListPanel.__init__\u001b[0;34m(self, *objects, **params)\u001b[0m\n\u001b[1;32m    778\u001b[0m     \u001b[38;5;28;01mif\u001b[39;00m \u001b[38;5;124m'\u001b[39m\u001b[38;5;124mobjects\u001b[39m\u001b[38;5;124m'\u001b[39m \u001b[38;5;129;01min\u001b[39;00m params:\n\u001b[1;32m    779\u001b[0m         \u001b[38;5;28;01mraise\u001b[39;00m \u001b[38;5;167;01mValueError\u001b[39;00m(\u001b[38;5;124m\"\u001b[39m\u001b[38;5;124mA \u001b[39m\u001b[38;5;132;01m%s\u001b[39;00m\u001b[38;5;124m'\u001b[39m\u001b[38;5;124ms objects should be supplied either \u001b[39m\u001b[38;5;124m\"\u001b[39m\n\u001b[1;32m    780\u001b[0m                          \u001b[38;5;124m\"\u001b[39m\u001b[38;5;124mas positional arguments or as a keyword, \u001b[39m\u001b[38;5;124m\"\u001b[39m\n\u001b[1;32m    781\u001b[0m                          \u001b[38;5;124m\"\u001b[39m\u001b[38;5;124mnot both.\u001b[39m\u001b[38;5;124m\"\u001b[39m \u001b[38;5;241m%\u001b[39m \u001b[38;5;28mtype\u001b[39m(\u001b[38;5;28mself\u001b[39m)\u001b[38;5;241m.\u001b[39m\u001b[38;5;18m__name__\u001b[39m)\n\u001b[0;32m--> 782\u001b[0m     params[\u001b[38;5;124m'\u001b[39m\u001b[38;5;124mobjects\u001b[39m\u001b[38;5;124m'\u001b[39m] \u001b[38;5;241m=\u001b[39m [panel(pane) \u001b[38;5;28;01mfor\u001b[39;00m pane \u001b[38;5;129;01min\u001b[39;00m objects]\n\u001b[1;32m    783\u001b[0m \u001b[38;5;28;01melif\u001b[39;00m \u001b[38;5;124m'\u001b[39m\u001b[38;5;124mobjects\u001b[39m\u001b[38;5;124m'\u001b[39m \u001b[38;5;129;01min\u001b[39;00m params:\n\u001b[1;32m    784\u001b[0m     \u001b[38;5;28;01mif\u001b[39;00m \u001b[38;5;129;01mnot\u001b[39;00m \u001b[38;5;28mhasattr\u001b[39m(params[\u001b[38;5;124m'\u001b[39m\u001b[38;5;124mobjects\u001b[39m\u001b[38;5;124m'\u001b[39m], \u001b[38;5;124m'\u001b[39m\u001b[38;5;124m_dinfo\u001b[39m\u001b[38;5;124m'\u001b[39m):\n",
      "File \u001b[0;32m~/anaconda3/lib/python3.11/site-packages/panel/layout/base.py:782\u001b[0m, in \u001b[0;36m<listcomp>\u001b[0;34m(.0)\u001b[0m\n\u001b[1;32m    778\u001b[0m     \u001b[38;5;28;01mif\u001b[39;00m \u001b[38;5;124m'\u001b[39m\u001b[38;5;124mobjects\u001b[39m\u001b[38;5;124m'\u001b[39m \u001b[38;5;129;01min\u001b[39;00m params:\n\u001b[1;32m    779\u001b[0m         \u001b[38;5;28;01mraise\u001b[39;00m \u001b[38;5;167;01mValueError\u001b[39;00m(\u001b[38;5;124m\"\u001b[39m\u001b[38;5;124mA \u001b[39m\u001b[38;5;132;01m%s\u001b[39;00m\u001b[38;5;124m'\u001b[39m\u001b[38;5;124ms objects should be supplied either \u001b[39m\u001b[38;5;124m\"\u001b[39m\n\u001b[1;32m    780\u001b[0m                          \u001b[38;5;124m\"\u001b[39m\u001b[38;5;124mas positional arguments or as a keyword, \u001b[39m\u001b[38;5;124m\"\u001b[39m\n\u001b[1;32m    781\u001b[0m                          \u001b[38;5;124m\"\u001b[39m\u001b[38;5;124mnot both.\u001b[39m\u001b[38;5;124m\"\u001b[39m \u001b[38;5;241m%\u001b[39m \u001b[38;5;28mtype\u001b[39m(\u001b[38;5;28mself\u001b[39m)\u001b[38;5;241m.\u001b[39m\u001b[38;5;18m__name__\u001b[39m)\n\u001b[0;32m--> 782\u001b[0m     params[\u001b[38;5;124m'\u001b[39m\u001b[38;5;124mobjects\u001b[39m\u001b[38;5;124m'\u001b[39m] \u001b[38;5;241m=\u001b[39m [panel(pane) \u001b[38;5;28;01mfor\u001b[39;00m pane \u001b[38;5;129;01min\u001b[39;00m objects]\n\u001b[1;32m    783\u001b[0m \u001b[38;5;28;01melif\u001b[39;00m \u001b[38;5;124m'\u001b[39m\u001b[38;5;124mobjects\u001b[39m\u001b[38;5;124m'\u001b[39m \u001b[38;5;129;01min\u001b[39;00m params:\n\u001b[1;32m    784\u001b[0m     \u001b[38;5;28;01mif\u001b[39;00m \u001b[38;5;129;01mnot\u001b[39;00m \u001b[38;5;28mhasattr\u001b[39m(params[\u001b[38;5;124m'\u001b[39m\u001b[38;5;124mobjects\u001b[39m\u001b[38;5;124m'\u001b[39m], \u001b[38;5;124m'\u001b[39m\u001b[38;5;124m_dinfo\u001b[39m\u001b[38;5;124m'\u001b[39m):\n",
      "File \u001b[0;32m~/anaconda3/lib/python3.11/site-packages/panel/pane/base.py:87\u001b[0m, in \u001b[0;36mpanel\u001b[0;34m(obj, **kwargs)\u001b[0m\n\u001b[1;32m     85\u001b[0m \u001b[38;5;28;01mif\u001b[39;00m kwargs\u001b[38;5;241m.\u001b[39mget(\u001b[38;5;124m'\u001b[39m\u001b[38;5;124mname\u001b[39m\u001b[38;5;124m'\u001b[39m, \u001b[38;5;28;01mFalse\u001b[39;00m) \u001b[38;5;129;01mis\u001b[39;00m \u001b[38;5;28;01mNone\u001b[39;00m:\n\u001b[1;32m     86\u001b[0m     kwargs\u001b[38;5;241m.\u001b[39mpop(\u001b[38;5;124m'\u001b[39m\u001b[38;5;124mname\u001b[39m\u001b[38;5;124m'\u001b[39m)\n\u001b[0;32m---> 87\u001b[0m pane \u001b[38;5;241m=\u001b[39m PaneBase\u001b[38;5;241m.\u001b[39mget_pane_type(obj, \u001b[38;5;241m*\u001b[39m\u001b[38;5;241m*\u001b[39mkwargs)(obj, \u001b[38;5;241m*\u001b[39m\u001b[38;5;241m*\u001b[39mkwargs)\n\u001b[1;32m     88\u001b[0m \u001b[38;5;28;01mif\u001b[39;00m \u001b[38;5;28mlen\u001b[39m(pane\u001b[38;5;241m.\u001b[39mlayout) \u001b[38;5;241m==\u001b[39m \u001b[38;5;241m1\u001b[39m \u001b[38;5;129;01mand\u001b[39;00m pane\u001b[38;5;241m.\u001b[39m_unpack:\n\u001b[1;32m     89\u001b[0m     \u001b[38;5;28;01mreturn\u001b[39;00m pane\u001b[38;5;241m.\u001b[39mlayout[\u001b[38;5;241m0\u001b[39m]\n",
      "File \u001b[0;32m~/anaconda3/lib/python3.11/site-packages/panel/interact.py:87\u001b[0m, in \u001b[0;36minteractive.__init__\u001b[0;34m(self, object, params, **kwargs)\u001b[0m\n\u001b[1;32m     84\u001b[0m \u001b[38;5;28msuper\u001b[39m()\u001b[38;5;241m.\u001b[39m\u001b[38;5;21m__init__\u001b[39m(\u001b[38;5;28mobject\u001b[39m, \u001b[38;5;241m*\u001b[39m\u001b[38;5;241m*\u001b[39mparams)\n\u001b[1;32m     86\u001b[0m \u001b[38;5;28mself\u001b[39m\u001b[38;5;241m.\u001b[39mthrottled \u001b[38;5;241m=\u001b[39m kwargs\u001b[38;5;241m.\u001b[39mpop(\u001b[38;5;124m'\u001b[39m\u001b[38;5;124mthrottled\u001b[39m\u001b[38;5;124m'\u001b[39m, \u001b[38;5;28;01mFalse\u001b[39;00m)\n\u001b[0;32m---> 87\u001b[0m new_kwargs \u001b[38;5;241m=\u001b[39m \u001b[38;5;28mself\u001b[39m\u001b[38;5;241m.\u001b[39mfind_abbreviations(kwargs)\n\u001b[1;32m     88\u001b[0m \u001b[38;5;66;03m# Before we proceed, let's make sure that the user has passed a set of args+kwargs\u001b[39;00m\n\u001b[1;32m     89\u001b[0m \u001b[38;5;66;03m# that will lead to a valid call of the function. This protects against unspecified\u001b[39;00m\n\u001b[1;32m     90\u001b[0m \u001b[38;5;66;03m# and doubly-specified arguments.\u001b[39;00m\n\u001b[1;32m     91\u001b[0m \u001b[38;5;28;01mtry\u001b[39;00m:\n",
      "File \u001b[0;32m~/anaconda3/lib/python3.11/site-packages/panel/interact.py:205\u001b[0m, in \u001b[0;36minteractive.find_abbreviations\u001b[0;34m(self, kwargs)\u001b[0m\n\u001b[1;32m    203\u001b[0m     \u001b[38;5;28;01mfor\u001b[39;00m name, value, default \u001b[38;5;129;01min\u001b[39;00m _yield_abbreviations_for_parameter(parameter, kwargs):\n\u001b[1;32m    204\u001b[0m         \u001b[38;5;28;01mif\u001b[39;00m value \u001b[38;5;129;01mis\u001b[39;00m empty:\n\u001b[0;32m--> 205\u001b[0m             \u001b[38;5;28;01mraise\u001b[39;00m \u001b[38;5;167;01mValueError\u001b[39;00m(\u001b[38;5;124m'\u001b[39m\u001b[38;5;124mcannot find widget or abbreviation for argument: \u001b[39m\u001b[38;5;132;01m{!r}\u001b[39;00m\u001b[38;5;124m'\u001b[39m\u001b[38;5;241m.\u001b[39mformat(name))\n\u001b[1;32m    206\u001b[0m         new_kwargs\u001b[38;5;241m.\u001b[39mappend((name, value, default))\n\u001b[1;32m    207\u001b[0m \u001b[38;5;28;01mreturn\u001b[39;00m new_kwargs\n",
      "\u001b[0;31mValueError\u001b[0m: cannot find widget or abbreviation for argument: 'type'"
     ]
    }
   ],
   "source": [
    "import pandas as pd\n",
    "import hvplot.pandas\n",
    "import panel as pn\n",
    "\n",
    "# Sample data\n",
    "data = {\n",
    "    'Year': [2010, 2011, 2012, 2013, 2014, 2015],\n",
    "    'Overall Average Time': [120, 125, 130, 135, 140, 145],\n",
    "    'Fastest Time': [110, 108, 105, 103, 100, 98],\n",
    "    'Country': ['Germany', 'Germany', 'Kenya', 'Kenya', 'Ethiopia', 'Ethiopia'],\n",
    "    'Time': [125, 130, 105, 103, 98, 100],\n",
    "    'Gender': ['Male', 'Male', 'Female', 'Female', 'Male', 'Female']\n",
    "}\n",
    "\n",
    "df = pd.DataFrame(data)\n",
    "\n",
    "# Create the plots\n",
    "average_time_plot = df.hvplot.line(x='Year', y='Overall Average Time', title='Average Times Over the Years')\n",
    "fastest_time_plot = df.hvplot.line(x='Year', y='Fastest Time', title='Fastest Times Over the Years')\n",
    "country_distribution_plot = df.groupby('Country').size().hvplot.bar(title='Runners Distribution by Country')\n",
    "\n",
    "# Create interactive widgets\n",
    "distribution_type = pn.widgets.Select(options=['Country', 'Gender'], value='Country', name='Distribution Type')\n",
    "\n",
    "# Define a function to update the plot based on the selected distribution type\n",
    "def update_plot(type):\n",
    "    if type == 'Country':\n",
    "        plot = country_distribution_plot\n",
    "    elif type == 'Gender':\n",
    "        plot = df['Gender'].value_counts().plot.pie(title='Runners Gender Distribution')\n",
    "    else:\n",
    "        plot = pn.pane.Markdown(\"Select a valid distribution type.\", style={'color': 'red'})\n",
    "    return plot\n",
    "\n",
    "# Use the interactive widget in the layout\n",
    "dashboard = pn.Column(\n",
    "    pn.Row(average_time_plot, fastest_time_plot),\n",
    "    pn.Row(distribution_type, update_plot),\n",
    ")\n",
    "\n",
    "# Show the dashboard\n",
    "dashboard.servable()\n"
   ]
  },
  {
   "cell_type": "code",
   "execution_count": null,
   "id": "699ba944-5ce9-4249-84f1-a17dc58e3f25",
   "metadata": {},
   "outputs": [],
   "source": []
  }
 ],
 "metadata": {
  "kernelspec": {
   "display_name": "Python 3 (ipykernel)",
   "language": "python",
   "name": "python3"
  },
  "language_info": {
   "codemirror_mode": {
    "name": "ipython",
    "version": 3
   },
   "file_extension": ".py",
   "mimetype": "text/x-python",
   "name": "python",
   "nbconvert_exporter": "python",
   "pygments_lexer": "ipython3",
   "version": "3.11.5"
  }
 },
 "nbformat": 4,
 "nbformat_minor": 5
}
