{
 "cells": [
  {
   "cell_type": "markdown",
   "metadata": {},
   "source": [
    "Inspiration:\n",
    "- [Berlin Marathons](https://medium.com/@moralescas/berlin-marathon-data-1974-2023-fd18f420906f)\n",
    "\n",
    "Questions to be answered:\n",
    "- **Olympic Marathon**\n",
    "    - Which country won the most medals\n",
    "- **NYC Marathon**\n",
    "    - Difference between male and female times\n",
    "    - Country with most winners\n",
    "    - avg time per country\n",
    "- **Berlin Marathon**\n",
    "    - Where do most runners come from?\n",
    "    - Where are the shortest times from?\n",
    "    - Are these two places the same?\n",
    "    - How did each country perform?\n",
    "    - How have finishing times changed over the years?\n",
    "    - How has the fastest time changed over the years?\n",
    "- **Boston Marathon**:\n",
    "    - how age affects race time\n",
    "        - Fastest time per age group\n",
    "    - difference in gender race times\n",
    "- **Boston Marathon winners**:\n",
    "    - Country with most winners\n",
    "        - Show this on the map to show how geography can affect the outcomes\n",
    "    - Avg time per country\n",
    "    - Look at ¿avg? difference in time between men and women\n",
    "- **Other**:\n",
    "    - Does location of race affect times\n",
    "\n",
    "\n",
    "Sources:\n",
    "- [Berlin Marathon Data](https://www.kaggle.com/datasets/aiaiaidavid/berlin-marathons-data)\n",
    "- [NYC Marathons](https://www.openintro.org/data/index.php?data=nyc_marathon)\n",
    "- [Boston Marathon Data](https://data.scorenetwork.org/running/boston_marathon_2023.html)\n",
    "- [Boston Marathon Winners Data](https://www.kaggle.com/datasets/zhikchen/boston-marathon-winners-men-and-women)"
   ]
  },
  {
   "cell_type": "code",
   "execution_count": 54,
   "metadata": {},
   "outputs": [],
   "source": [
    "import pandas as pd"
   ]
  },
  {
   "cell_type": "code",
   "execution_count": 56,
   "metadata": {},
   "outputs": [
    {
     "name": "stderr",
     "output_type": "stream",
     "text": [
      "/var/folders/_p/y56kr6vs1fz7ycsbxhyqwwwc0000gn/T/ipykernel_46950/3334841572.py:16: DtypeWarning: Columns (1,3) have mixed types. Specify dtype option on import or set low_memory=False.\n",
      "  berlin_marathon = pd.read_csv('1_running_datasets/berlin_marathon_1974_2023.csv')\n"
     ]
    }
   ],
   "source": [
    "#files\n",
    "#format: year, name, country, time, time_hrs, division[sex], note\n",
    "#(only winners)\n",
    "nyc_marathon = pd.read_csv('1_running_datasets/nyc_marathon.csv')\n",
    "\n",
    "#format: year, location, Gold_Name, Gold_Country, Silver_Name, Silver_Country, Bronze_Name, Bronze_Country\n",
    "#(only winners)\n",
    "olympic_marathon = pd.read_csv('1_running_datasets/Olympic_Games.csv').drop(columns='Unnamed: 0')\n",
    "\n",
    "#format: country, Gold, Silver, Bronze, Total\n",
    "#(only winners)\n",
    "olympic_country_medals = pd.read_csv('1_running_datasets/Olympic_Country_Medals.csv')\n",
    "\n",
    "#format: year, country, gender, age, time\n",
    "#(all participants)\n",
    "berlin_marathon = pd.read_csv('1_running_datasets/berlin_marathon_1974_2023.csv')\n",
    "\n",
    "#format: age_group, place_overall, place_gender, place_division, name, team, bib_number, half_time, finish_net, finish_gun, gender, half_time_sec, finish_net_sec, finish_gun_sec, finish_net_,minutes\n",
    "#new format: name, age_group, place_gender, finish_net, finish_net_sed, finish_net_hour\n",
    "#(all participants)(no country)\n",
    "boston_marathon_2023 = pd.read_csv('1_running_datasets/boston_marathon_2023.csv')[['name', 'age_group', 'place_gender', 'finish_net', 'finish_net_sec']]\n",
    "boston_marathon_2023['finish_net_hour'] = boston_marathon_2023['finish_net_sec']/3600\n",
    "boston_marathon_2023\n",
    "\n",
    "#format: Year, Winner, Country, Time, Distance(Miles), Distance(KM)\n",
    "mens_boston_marathon_winners = pd.read_csv('1_running_datasets/Mens_Boston_Marathon_Winners.csv')\n",
    "womens_boston_marathon_winners = pd.read_csv('1_running_datasets/Womens_Boston_Marathon_Winners.csv')"
   ]
  },
  {
   "cell_type": "code",
   "execution_count": 31,
   "metadata": {},
   "outputs": [],
   "source": [
    "data = pd.DataFrame('', columns=['year', 'name', 'country', 'gender', 'time'], index = [1, 2, 3, 4, 5])"
   ]
  },
  {
   "cell_type": "code",
   "execution_count": 23,
   "metadata": {},
   "outputs": [
    {
     "data": {
      "text/html": [
       "<div>\n",
       "<style scoped>\n",
       "    .dataframe tbody tr th:only-of-type {\n",
       "        vertical-align: middle;\n",
       "    }\n",
       "\n",
       "    .dataframe tbody tr th {\n",
       "        vertical-align: top;\n",
       "    }\n",
       "\n",
       "    .dataframe thead th {\n",
       "        text-align: right;\n",
       "    }\n",
       "</style>\n",
       "<table border=\"1\" class=\"dataframe\">\n",
       "  <thead>\n",
       "    <tr style=\"text-align: right;\">\n",
       "      <th></th>\n",
       "      <th>year</th>\n",
       "      <th>name</th>\n",
       "      <th>country</th>\n",
       "      <th>gender</th>\n",
       "      <th>time</th>\n",
       "    </tr>\n",
       "  </thead>\n",
       "  <tbody>\n",
       "    <tr>\n",
       "      <th>1</th>\n",
       "      <td></td>\n",
       "      <td></td>\n",
       "      <td></td>\n",
       "      <td></td>\n",
       "      <td></td>\n",
       "    </tr>\n",
       "    <tr>\n",
       "      <th>2</th>\n",
       "      <td></td>\n",
       "      <td></td>\n",
       "      <td></td>\n",
       "      <td></td>\n",
       "      <td></td>\n",
       "    </tr>\n",
       "    <tr>\n",
       "      <th>3</th>\n",
       "      <td></td>\n",
       "      <td></td>\n",
       "      <td></td>\n",
       "      <td></td>\n",
       "      <td></td>\n",
       "    </tr>\n",
       "    <tr>\n",
       "      <th>4</th>\n",
       "      <td></td>\n",
       "      <td></td>\n",
       "      <td></td>\n",
       "      <td></td>\n",
       "      <td></td>\n",
       "    </tr>\n",
       "    <tr>\n",
       "      <th>5</th>\n",
       "      <td></td>\n",
       "      <td></td>\n",
       "      <td></td>\n",
       "      <td></td>\n",
       "      <td></td>\n",
       "    </tr>\n",
       "  </tbody>\n",
       "</table>\n",
       "</div>"
      ],
      "text/plain": [
       "  year name country gender time\n",
       "1                              \n",
       "2                              \n",
       "3                              \n",
       "4                              \n",
       "5                              "
      ]
     },
     "execution_count": 23,
     "metadata": {},
     "output_type": "execute_result"
    }
   ],
   "source": [
    "data"
   ]
  },
  {
   "cell_type": "code",
   "execution_count": null,
   "metadata": {},
   "outputs": [],
   "source": []
  }
 ],
 "metadata": {
  "kernelspec": {
   "display_name": "base",
   "language": "python",
   "name": "python3"
  },
  "language_info": {
   "codemirror_mode": {
    "name": "ipython",
    "version": 3
   },
   "file_extension": ".py",
   "mimetype": "text/x-python",
   "name": "python",
   "nbconvert_exporter": "python",
   "pygments_lexer": "ipython3",
   "version": "3.11.5"
  }
 },
 "nbformat": 4,
 "nbformat_minor": 2
}
